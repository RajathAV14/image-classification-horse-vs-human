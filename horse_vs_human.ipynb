{
 "cells": [
  {
   "cell_type": "code",
   "execution_count": 1,
   "metadata": {},
   "outputs": [],
   "source": [
    "import tensorflow as tf\n",
    "physical_devices = tf.config.list_physical_devices('GPU') \n",
    "tf.config.experimental.set_memory_growth(physical_devices[0], True)"
   ]
  },
  {
   "cell_type": "code",
   "execution_count": 2,
   "metadata": {},
   "outputs": [],
   "source": [
    "from tensorflow import keras\n",
    "import matplotlib.pyplot as plt\n",
    "import numpy as np\n",
    "import pandas as pd\n",
    "import seaborn as sn\n",
    "import os\n",
    "from tensorflow.keras.preprocessing.image import ImageDataGenerator"
   ]
  },
  {
   "cell_type": "code",
   "execution_count": 3,
   "metadata": {},
   "outputs": [],
   "source": [
    "(X_train, y_train) , (X_test, y_test) = keras.datasets.mnist.load_data()"
   ]
  },
  {
   "cell_type": "code",
   "execution_count": 4,
   "metadata": {},
   "outputs": [],
   "source": [
    "X_train=X_train/256\n",
    "X_test=X_test/256"
   ]
  },
  {
   "cell_type": "code",
   "execution_count": 5,
   "metadata": {},
   "outputs": [
    {
     "name": "stdout",
     "output_type": "stream",
     "text": [
      "(60000, 28, 28) (10000, 28, 28)\n"
     ]
    }
   ],
   "source": [
    "print(X_train.shape,  X_test.shape)"
   ]
  },
  {
   "cell_type": "code",
   "execution_count": 6,
   "metadata": {},
   "outputs": [
    {
     "data": {
      "text/plain": [
       "<matplotlib.image.AxesImage at 0x210321b0a88>"
      ]
     },
     "execution_count": 6,
     "metadata": {},
     "output_type": "execute_result"
    },
    {
     "data": {
      "image/png": "[encoded data removed]",
      "text/plain": [
       "<Figure size 288x288 with 1 Axes>"
      ]
     },
     "metadata": {
      "needs_background": "light"
     },
     "output_type": "display_data"
    }
   ],
   "source": [
    "plt.matshow(X_test[456])"
   ]
  },
  {
   "cell_type": "code",
   "execution_count": 7,
   "metadata": {},
   "outputs": [],
   "source": [
    "x_train=X_train.reshape(len(X_train) , len(X_train[0])*len(X_train[0]))\n",
    "x_test=X_test.reshape(len(X_test) , len(X_test[0])*len(X_test[0]))"
   ]
  },
  {
   "cell_type": "code",
   "execution_count": 8,
   "metadata": {},
   "outputs": [
    {
     "name": "stdout",
     "output_type": "stream",
     "text": [
      "(60000, 784) (10000, 784)\n"
     ]
    }
   ],
   "source": [
    "print(x_train.shape, x_test.shape)"
   ]
  },
  {
   "cell_type": "code",
   "execution_count": 9,
   "metadata": {},
   "outputs": [
    {
     "name": "stdout",
     "output_type": "stream",
     "text": [
      "Train on 60000 samples\n",
      "Epoch 1/5\n",
      "60000/60000 [==============================] - 11s 179us/sample - loss: 0.2532 - accuracy: 0.9278\n",
      "Epoch 2/5\n",
      "60000/60000 [==============================] - 8s 135us/sample - loss: 0.1105 - accuracy: 0.9678\n",
      "Epoch 3/5\n",
      "60000/60000 [==============================] - 8s 137us/sample - loss: 0.0764 - accuracy: 0.9770\n",
      "Epoch 4/5\n",
      "60000/60000 [==============================] - 8s 138us/sample - loss: 0.0558 - accuracy: 0.9822\n",
      "Epoch 5/5\n",
      "60000/60000 [==============================] - 8s 135us/sample - loss: 0.0430 - accuracy: 0.9862\n"
     ]
    },
    {
     "data": {
      "text/plain": [
       "<tensorflow.python.keras.callbacks.History at 0x2107053a608>"
      ]
     },
     "execution_count": 9,
     "metadata": {},
     "output_type": "execute_result"
    }
   ],
   "source": [
    "model=keras.Sequential([keras.layers.Dense(128,activation='relu'),keras.layers.Dense(10,activation='softmax')])\n",
    "model.compile(optimizer='adam',loss='sparse_categorical_crossentropy',metrics=['accuracy'])\n",
    "model.fit(x_train,y_train,epochs=5)"
   ]
  },
  {
   "cell_type": "code",
   "execution_count": 10,
   "metadata": {},
   "outputs": [
    {
     "name": "stdout",
     "output_type": "stream",
     "text": [
      "10000/10000 [==============================] - 1s 129us/sample - loss: 0.0963 - accuracy: 0.9700\n"
     ]
    },
    {
     "data": {
      "text/plain": [
       "[0.09630177204976789, 0.97]"
      ]
     },
     "execution_count": 10,
     "metadata": {},
     "output_type": "execute_result"
    }
   ],
   "source": [
    "model.evaluate(x_test,y_test)"
   ]
  },
  {
   "cell_type": "code",
   "execution_count": 11,
   "metadata": {},
   "outputs": [],
   "source": [
    "y_pred=model.predict(x_test)"
   ]
  },
  {
   "cell_type": "code",
   "execution_count": 12,
   "metadata": {},
   "outputs": [
    {
     "name": "stdout",
     "output_type": "stream",
     "text": [
      " predicted:  7\n"
     ]
    },
    {
     "data": {
      "image/png": "[encoded data removed]",
      "text/plain": [
       "<Figure size 288x288 with 1 Axes>"
      ]
     },
     "metadata": {
      "needs_background": "light"
     },
     "output_type": "display_data"
    }
   ],
   "source": [
    "var=666\n",
    "\n",
    "plt.matshow(X_test[var])\n",
    "print(\" predicted: \", np.argmax(y_pred[var]))"
   ]
  },
  {
   "cell_type": "code",
   "execution_count": 13,
   "metadata": {},
   "outputs": [
    {
     "data": {
      "text/plain": [
       "Text(69.0, 0.5, 'actual')"
      ]
     },
     "execution_count": 13,
     "metadata": {},
     "output_type": "execute_result"
    },
    {
     "data": {
      "image/png": "[encoded data removed]",
      "text/plain": [
       "<Figure size 720x360 with 2 Axes>"
      ]
     },
     "metadata": {
      "needs_background": "light"
     },
     "output_type": "display_data"
    }
   ],
   "source": [
    "lis=[np.argmax(i) for i in y_pred]\n",
    "cm=tf.math.confusion_matrix(labels=y_test,predictions=lis)\n",
    "\n",
    "plt.figure(figsize=(10,5))\n",
    "sn.heatmap(cm,annot=True, linewidth=0.5, fmt='d')\n",
    "plt.xlabel('predicted')\n",
    "plt.ylabel('actual')"
   ]
  },
  {
   "cell_type": "code",
   "execution_count": 14,
   "metadata": {},
   "outputs": [
    {
     "data": {
      "text/plain": [
       "<tf.Tensor: shape=(10, 10), dtype=int32, numpy=\n",
       "array([[ 976,    0,    0,    0,    0,    0,    0,    2,    2,    0],\n",
       "       [   0, 1122,    3,    1,    0,    1,    1,    2,    5,    0],\n",
       "       [   7,    0, 1008,    0,    3,    0,    1,    6,    7,    0],\n",
       "       [   2,    1,    7,  992,    0,    0,    0,    3,    4,    1],\n",
       "       [   2,    0,    7,    0,  968,    0,    0,    2,    1,    2],\n",
       "       [   5,    0,    0,   31,    3,  840,    2,    3,    7,    1],\n",
       "       [  29,    3,    5,    1,    7,    7,  900,    0,    6,    0],\n",
       "       [   2,    0,   10,    3,    2,    0,    0, 1008,    2,    1],\n",
       "       [  12,    0,    2,    8,    5,    2,    0,    4,  938,    3],\n",
       "       [   4,    5,    0,   12,   21,    2,    0,   12,    5,  948]])>"
      ]
     },
     "execution_count": 14,
     "metadata": {},
     "output_type": "execute_result"
    }
   ],
   "source": [
    "cm"
   ]
  },
  {
   "cell_type": "code",
   "execution_count": 15,
   "metadata": {},
   "outputs": [
    {
     "data": {
      "text/plain": [
       "(60000, 28, 28)"
      ]
     },
     "execution_count": 15,
     "metadata": {},
     "output_type": "execute_result"
    }
   ],
   "source": [
    "X_train.shape"
   ]
  },
  {
   "cell_type": "raw",
   "metadata": {},
   "source": [
    "X_train.shape"
   ]
  },
  {
   "cell_type": "markdown",
   "metadata": {},
   "source": [
    "### convolutional neural network on mnist"
   ]
  },
  {
   "cell_type": "code",
   "execution_count": 16,
   "metadata": {},
   "outputs": [],
   "source": [
    "x2=X_train.reshape(60000,28,28,1)"
   ]
  },
  {
   "cell_type": "code",
   "execution_count": 17,
   "metadata": {},
   "outputs": [],
   "source": [
    "x_test=X_test.reshape(10000,28,28,1)"
   ]
  },
  {
   "cell_type": "code",
   "execution_count": 18,
   "metadata": {},
   "outputs": [],
   "source": [
    "mymodel2=keras.Sequential()\n",
    "mymodel2.add(keras.layers.Conv2D(64,(3,3),input_shape=(28,28,1),activation='relu'))\n",
    "mymodel2.add(keras.layers.MaxPooling2D(2,2))\n",
    "mymodel2.add(keras.layers.Conv2D(64,(3,3),activation='relu'))\n",
    "mymodel2.add(keras.layers.MaxPooling2D(2,2))\n",
    "mymodel2.add(keras.layers.Flatten())\n",
    "mymodel2.add(keras.layers.Dense(128,activation='relu'))\n",
    "mymodel2.add(keras.layers.Dense(10,activation='softmax'))\n",
    "\n",
    "mymodel2.compile(optimizer='adam',loss='sparse_categorical_crossentropy',metrics=['accuracy'])"
   ]
  },
  {
   "cell_type": "code",
   "execution_count": 19,
   "metadata": {},
   "outputs": [
    {
     "name": "stdout",
     "output_type": "stream",
     "text": [
      "Train on 60000 samples\n",
      "Epoch 1/10\n",
      "60000/60000 [==============================] - 23s 375us/sample - loss: 0.1236 - accuracy: 0.9624\n",
      "Epoch 2/10\n",
      "60000/60000 [==============================] - 14s 231us/sample - loss: 0.0394 - accuracy: 0.9877\n",
      "Epoch 3/10\n",
      "60000/60000 [==============================] - 14s 232us/sample - loss: 0.0274 - accuracy: 0.9914\n",
      "Epoch 4/10\n",
      "60000/60000 [==============================] - 14s 229us/sample - loss: 0.0201 - accuracy: 0.9936\n",
      "Epoch 5/10\n",
      "60000/60000 [==============================] - 14s 228us/sample - loss: 0.0147 - accuracy: 0.9956\n",
      "Epoch 6/10\n",
      "60000/60000 [==============================] - 14s 235us/sample - loss: 0.0110 - accuracy: 0.9964\n",
      "Epoch 7/10\n",
      "60000/60000 [==============================] - 14s 234us/sample - loss: 0.0096 - accuracy: 0.9968\n",
      "Epoch 8/10\n",
      "60000/60000 [==============================] - 14s 231us/sample - loss: 0.0081 - accuracy: 0.9973\n",
      "Epoch 9/10\n",
      "60000/60000 [==============================] - 14s 236us/sample - loss: 0.0070 - accuracy: 0.9976\n",
      "Epoch 10/10\n",
      "60000/60000 [==============================] - 14s 235us/sample - loss: 0.0058 - accuracy: 0.9981\n"
     ]
    },
    {
     "data": {
      "text/plain": [
       "<tensorflow.python.keras.callbacks.History at 0x2107af61d88>"
      ]
     },
     "execution_count": 19,
     "metadata": {},
     "output_type": "execute_result"
    }
   ],
   "source": [
    "mymodel2.fit(x2,y_train,epochs=10)"
   ]
  },
  {
   "cell_type": "code",
   "execution_count": 20,
   "metadata": {},
   "outputs": [
    {
     "name": "stdout",
     "output_type": "stream",
     "text": [
      "10000/10000 [==============================] - 2s 179us/sample - loss: 0.0336 - accuracy: 0.9925\n"
     ]
    },
    {
     "data": {
      "text/plain": [
       "[0.033585294890313915, 0.9925]"
      ]
     },
     "execution_count": 20,
     "metadata": {},
     "output_type": "execute_result"
    }
   ],
   "source": [
    "mymodel2.evaluate(x_test,y_test)"
   ]
  },
  {
   "cell_type": "raw",
   "metadata": {},
   "source": []
  },
  {
   "cell_type": "raw",
   "metadata": {},
   "source": []
  },
  {
   "cell_type": "markdown",
   "metadata": {},
   "source": [
    "### Horse vs Human classification using my own dataset "
   ]
  },
  {
   "cell_type": "code",
   "execution_count": 21,
   "metadata": {},
   "outputs": [],
   "source": [
    "model = tf.keras.models.Sequential([\n",
    "    # Note the input shape is the desired size of the image 300x300 with 3 bytes color\n",
    "    # This is the first convolution\n",
    "    tf.keras.layers.Conv2D(16, (3,3), activation='relu', input_shape=(300, 300, 3)),\n",
    "    tf.keras.layers.MaxPooling2D(2, 2),\n",
    "    # The second convolution\n",
    "    tf.keras.layers.Conv2D(32, (3,3), activation='relu'),\n",
    "    tf.keras.layers.MaxPooling2D(2,2),\n",
    "    # The third convolution\n",
    "    tf.keras.layers.Conv2D(64, (3,3), activation='relu'),\n",
    "    tf.keras.layers.MaxPooling2D(2,2),\n",
    "    # The fourth convolution\n",
    "    tf.keras.layers.Conv2D(64, (3,3), activation='relu'),\n",
    "    tf.keras.layers.MaxPooling2D(2,2),\n",
    "    # The fifth convolution\n",
    "    tf.keras.layers.Conv2D(64, (3,3), activation='relu'),\n",
    "    tf.keras.layers.MaxPooling2D(2,2),\n",
    "    # Flatten the results to feed into a DNN\n",
    "    tf.keras.layers.Flatten(),\n",
    "    # 512 neuron hidden layer\n",
    "    tf.keras.layers.Dense(512, activation='relu'),\n",
    "    # Only 1 output neuron. It will contain a value from 0-1 where 0 for 1 class ('horses') and 1 for the other ('humans')\n",
    "    tf.keras.layers.Dense(1, activation='sigmoid')\n",
    "])"
   ]
  },
  {
   "cell_type": "code",
   "execution_count": 22,
   "metadata": {},
   "outputs": [],
   "source": [
    "from tensorflow.keras.optimizers import RMSprop\n",
    "\n",
    "model.compile(loss='binary_crossentropy',\n",
    "              optimizer=RMSprop(lr=0.001),\n",
    "              metrics=['accuracy'])"
   ]
  },
  {
   "cell_type": "code",
   "execution_count": 23,
   "metadata": {},
   "outputs": [
    {
     "name": "stdout",
     "output_type": "stream",
     "text": [
      "Model: \"sequential_2\"\n",
      "_________________________________________________________________\n",
      "Layer (type)                 Output Shape              Param #   \n",
      "=================================================================\n",
      "conv2d_2 (Conv2D)            (None, 298, 298, 16)      448       \n",
      "_________________________________________________________________\n",
      "max_pooling2d_2 (MaxPooling2 (None, 149, 149, 16)      0         \n",
      "_________________________________________________________________\n",
      "conv2d_3 (Conv2D)            (None, 147, 147, 32)      4640      \n",
      "_________________________________________________________________\n",
      "max_pooling2d_3 (MaxPooling2 (None, 73, 73, 32)        0         \n",
      "_________________________________________________________________\n",
      "conv2d_4 (Conv2D)            (None, 71, 71, 64)        18496     \n",
      "_________________________________________________________________\n",
      "max_pooling2d_4 (MaxPooling2 (None, 35, 35, 64)        0         \n",
      "_________________________________________________________________\n",
      "conv2d_5 (Conv2D)            (None, 33, 33, 64)        36928     \n",
      "_________________________________________________________________\n",
      "max_pooling2d_5 (MaxPooling2 (None, 16, 16, 64)        0         \n",
      "_________________________________________________________________\n",
      "conv2d_6 (Conv2D)            (None, 14, 14, 64)        36928     \n",
      "_________________________________________________________________\n",
      "max_pooling2d_6 (MaxPooling2 (None, 7, 7, 64)          0         \n",
      "_________________________________________________________________\n",
      "flatten_1 (Flatten)          (None, 3136)              0         \n",
      "_________________________________________________________________\n",
      "dense_4 (Dense)              (None, 512)               1606144   \n",
      "_________________________________________________________________\n",
      "dense_5 (Dense)              (None, 1)                 513       \n",
      "=================================================================\n",
      "Total params: 1,704,097\n",
      "Trainable params: 1,704,097\n",
      "Non-trainable params: 0\n",
      "_________________________________________________________________\n"
     ]
    }
   ],
   "source": [
    "model.summary()"
   ]
  },
  {
   "cell_type": "raw",
   "metadata": {},
   "source": []
  },
  {
   "cell_type": "markdown",
   "metadata": {},
   "source": [
    "### training and validation together using image data generator"
   ]
  },
  {
   "cell_type": "markdown",
   "metadata": {},
   "source": [
    "#### training using the bad coursera data - pencil human and fat horse- shows how misrepresentative the training dataset is"
   ]
  },
  {
   "cell_type": "code",
   "execution_count": 24,
   "metadata": {},
   "outputs": [
    {
     "name": "stdout",
     "output_type": "stream",
     "text": [
      "Found 1027 images belonging to 2 classes.\n",
      "Found 74 images belonging to 2 classes.\n",
      "WARNING:tensorflow:From <ipython-input-24-185683fe39ec>:24: Model.fit_generator (from tensorflow.python.keras.engine.training) is deprecated and will be removed in a future version.\n",
      "Instructions for updating:\n",
      "Please use Model.fit, which supports generators.\n",
      "WARNING:tensorflow:sample_weight modes were coerced from\n",
      "  ...\n",
      "    to  \n",
      "  ['...']\n",
      "WARNING:tensorflow:sample_weight modes were coerced from\n",
      "  ...\n",
      "    to  \n",
      "  ['...']\n",
      "Train for 8 steps, validate for 4 steps\n",
      "Epoch 1/25\n",
      "8/8 [==============================] - 7s 887ms/step - loss: 0.7763 - accuracy: 0.5098 - val_loss: 0.7311 - val_accuracy: 0.5781\n",
      "Epoch 2/25\n",
      "8/8 [==============================] - 5s 633ms/step - loss: 0.8621 - accuracy: 0.6608 - val_loss: 0.7462 - val_accuracy: 0.5000\n",
      "Epoch 3/25\n",
      "8/8 [==============================] - 5s 587ms/step - loss: 0.4116 - accuracy: 0.8625 - val_loss: 1.8584 - val_accuracy: 0.5312\n",
      "Epoch 4/25\n",
      "8/8 [==============================] - 5s 591ms/step - loss: 0.3337 - accuracy: 0.8647 - val_loss: 2.2212 - val_accuracy: 0.5156\n",
      "Epoch 5/25\n",
      "8/8 [==============================] - 5s 644ms/step - loss: 0.2921 - accuracy: 0.8867 - val_loss: 2.1264 - val_accuracy: 0.5312\n",
      "Epoch 6/25\n",
      "8/8 [==============================] - 5s 659ms/step - loss: 0.3649 - accuracy: 0.8867 - val_loss: 3.8727 - val_accuracy: 0.5000\n",
      "Epoch 7/25\n",
      "8/8 [==============================] - 5s 618ms/step - loss: 0.4336 - accuracy: 0.8262 - val_loss: 1.4884 - val_accuracy: 0.5312\n",
      "Epoch 8/25\n",
      "8/8 [==============================] - 5s 642ms/step - loss: 0.1020 - accuracy: 0.9668 - val_loss: 2.0830 - val_accuracy: 0.5000\n",
      "Epoch 9/25\n",
      "8/8 [==============================] - 5s 581ms/step - loss: 0.1064 - accuracy: 0.9623 - val_loss: 3.4257 - val_accuracy: 0.5781\n",
      "Epoch 10/25\n",
      "8/8 [==============================] - 5s 566ms/step - loss: 0.1018 - accuracy: 0.9579 - val_loss: 2.3549 - val_accuracy: 0.5312\n",
      "Epoch 11/25\n",
      "8/8 [==============================] - 5s 622ms/step - loss: 0.3661 - accuracy: 0.8789 - val_loss: 1.5274 - val_accuracy: 0.5156\n",
      "Epoch 12/25\n",
      "8/8 [==============================] - 5s 617ms/step - loss: 0.0941 - accuracy: 0.9579 - val_loss: 2.3983 - val_accuracy: 0.5312\n",
      "Epoch 13/25\n",
      "8/8 [==============================] - 5s 629ms/step - loss: 0.0350 - accuracy: 0.9863 - val_loss: 2.7579 - val_accuracy: 0.5625\n",
      "Epoch 14/25\n",
      "8/8 [==============================] - 5s 598ms/step - loss: 0.0230 - accuracy: 0.9956 - val_loss: 2.6273 - val_accuracy: 0.6094\n",
      "Epoch 15/25\n",
      "8/8 [==============================] - 6s 699ms/step - loss: 0.0139 - accuracy: 0.9961 - val_loss: 3.9918 - val_accuracy: 0.5312\n",
      "Epoch 16/25\n",
      "8/8 [==============================] - 7s 925ms/step - loss: 0.5216 - accuracy: 0.8887 - val_loss: 2.0050 - val_accuracy: 0.5625\n",
      "Epoch 17/25\n",
      "8/8 [==============================] - 43s 5s/step - loss: 0.0097 - accuracy: 0.9980 - val_loss: 2.8930 - val_accuracy: 0.5469\n",
      "Epoch 18/25\n",
      "8/8 [==============================] - 15s 2s/step - loss: 0.0050 - accuracy: 1.0000 - val_loss: 2.5628 - val_accuracy: 0.5781\n",
      "Epoch 19/25\n",
      "8/8 [==============================] - 7s 893ms/step - loss: 0.0032 - accuracy: 1.0000 - val_loss: 3.1747 - val_accuracy: 0.5469\n",
      "Epoch 20/25\n",
      "8/8 [==============================] - 6s 763ms/step - loss: 0.2021 - accuracy: 0.9446 - val_loss: 1.8705 - val_accuracy: 0.4844\n",
      "Epoch 21/25\n",
      "8/8 [==============================] - 6s 783ms/step - loss: 0.0445 - accuracy: 0.9863 - val_loss: 2.9713 - val_accuracy: 0.5469\n",
      "Epoch 22/25\n",
      "8/8 [==============================] - 4s 533ms/step - loss: 0.0067 - accuracy: 0.9978 - val_loss: 3.7353 - val_accuracy: 0.5938\n",
      "Epoch 23/25\n",
      "8/8 [==============================] - 7s 847ms/step - loss: 0.0037 - accuracy: 1.0000 - val_loss: 4.2037 - val_accuracy: 0.5781\n",
      "Epoch 24/25\n",
      "8/8 [==============================] - 4s 544ms/step - loss: 6.2901e-04 - accuracy: 1.0000 - val_loss: 4.8526 - val_accuracy: 0.5781\n",
      "Epoch 25/25\n",
      "8/8 [==============================] - 4s 555ms/step - loss: 0.3852 - accuracy: 0.9082 - val_loss: 2.2233 - val_accuracy: 0.5781\n"
     ]
    },
    {
     "data": {
      "text/plain": [
       "<tensorflow.python.keras.callbacks.History at 0x21010a68fc8>"
      ]
     },
     "execution_count": 24,
     "metadata": {},
     "output_type": "execute_result"
    }
   ],
   "source": [
    "batch_size=16\n",
    "# All images will be rescaled by 1./255\n",
    "train_datagen = ImageDataGenerator(rescale=1/255)\n",
    "test_datagen = ImageDataGenerator(rescale=1./255)\n",
    "# Flow training images in batches of 128 using train_datagen generator\n",
    "train_generator = train_datagen.flow_from_directory(\n",
    "        r'C:\\Users\\User\\horsehuman',     \n",
    "        target_size=(300, 300),  # All images will be resized to 300x300\n",
    "        batch_size=64,\n",
    "        # Since we use binary_crossentropy loss, we need binary labels\n",
    "        class_mode='binary')\n",
    "\n",
    "validation_generator = test_datagen.flow_from_directory(\n",
    "        r'C:\\Users\\User\\Desktop\\test',\n",
    "        target_size=(300, 300),\n",
    "        batch_size=16,\n",
    "        class_mode='binary')\n",
    "\n",
    "model.fit_generator(\n",
    "        train_generator,\n",
    "        steps_per_epoch=8 ,\n",
    "        epochs=25,\n",
    "        validation_data=validation_generator,\n",
    "        validation_steps=74 // batch_size)"
   ]
  },
  {
   "cell_type": "code",
   "execution_count": 25,
   "metadata": {},
   "outputs": [
    {
     "name": "stdout",
     "output_type": "stream",
     "text": [
      "Found 32 images belonging to 2 classes.\n",
      "WARNING:tensorflow:From <ipython-input-25-4e1890cba7f0>:12: Model.predict_generator (from tensorflow.python.keras.engine.training) is deprecated and will be removed in a future version.\n",
      "Instructions for updating:\n",
      "Please use Model.predict, which supports generators.\n",
      "32/32 [==============================] - 3s 85ms/step\n"
     ]
    }
   ],
   "source": [
    "predict_datagen = ImageDataGenerator(rescale=1./255)\n",
    "prediction_generator = predict_datagen.flow_from_directory(\n",
    "        r'C:\\Users\\User\\Desktop\\new_images',\n",
    "        target_size=(300, 300),\n",
    "        batch_size=1,\n",
    "        class_mode='binary',\n",
    "        shuffle=False)\n",
    "\n",
    "pred=model.predict_generator(\n",
    "        prediction_generator, \n",
    "        steps=len(prediction_generator),\n",
    "        verbose=1\n",
    "        )    # gives a 1d array of class probabilities. in this case, a single probability\n",
    "pred=pred.flatten()"
   ]
  },
  {
   "cell_type": "code",
   "execution_count": 26,
   "metadata": {},
   "outputs": [],
   "source": [
    "# for converting probailites into the corresponding predicted classes\n",
    "predicted_class_indices=[] \n",
    "for i in pred:\n",
    "    if i<0.5:\n",
    "        predicted_class_indices.append(0)\n",
    "    else:\n",
    "        predicted_class_indices.append(1)        \n",
    "# predicted_class_indices=np.argmax(pred,axis=1)   <- use this instead of above code if a multi class classification is used\n",
    "\n",
    "\n",
    "# for getting the actual class labels\n",
    "true_labels= [] \n",
    "classlabel=0\n",
    "for i in os.listdir(r'C:\\Users\\User\\Desktop\\new_images'):\n",
    "    j=os.path.join(r'C:\\Users\\User\\Desktop\\new_images',i)\n",
    "    l=len(os.listdir(j))\n",
    "    for k in range(l):\n",
    "        true_labels.append(classlabel)\n",
    "    classlabel+=1"
   ]
  },
  {
   "cell_type": "code",
   "execution_count": 27,
   "metadata": {},
   "outputs": [
    {
     "data": {
      "text/plain": [
       "Text(69.0, 0.5, 'actual')"
      ]
     },
     "execution_count": 27,
     "metadata": {},
     "output_type": "execute_result"
    },
    {
     "data": {
      "image/png": "[encoded data removed]",
      "text/plain": [
       "<Figure size 720x360 with 2 Axes>"
      ]
     },
     "metadata": {
      "needs_background": "light"
     },
     "output_type": "display_data"
    }
   ],
   "source": [
    "cm=tf.math.confusion_matrix(labels=true_labels,predictions=predicted_class_indices)\n",
    "\n",
    "plt.figure(figsize=(10,5))\n",
    "sn.heatmap(cm,annot=True, linewidth=0.5)\n",
    "plt.xlabel('predicted')\n",
    "plt.ylabel('actual')"
   ]
  },
  {
   "cell_type": "markdown",
   "metadata": {},
   "source": [
    "#### using my own data for training and coursera data for validation with image augmentation"
   ]
  },
  {
   "cell_type": "code",
   "execution_count": 28,
   "metadata": {},
   "outputs": [
    {
     "name": "stdout",
     "output_type": "stream",
     "text": [
      "Found 74 images belonging to 2 classes.\n",
      "Found 1027 images belonging to 2 classes.\n",
      "WARNING:tensorflow:sample_weight modes were coerced from\n",
      "  ...\n",
      "    to  \n",
      "  ['...']\n",
      "WARNING:tensorflow:sample_weight modes were coerced from\n",
      "  ...\n",
      "    to  \n",
      "  ['...']\n",
      "Train for 3 steps, validate for 32 steps\n",
      "Epoch 1/25\n",
      "3/3 [==============================] - 10s 3s/step - loss: 0.9327 - accuracy: 0.6429 - val_loss: 0.1803 - val_accuracy: 0.9375\n",
      "Epoch 2/25\n",
      "3/3 [==============================] - 10s 3s/step - loss: 0.8939 - accuracy: 0.5000 - val_loss: 0.3853 - val_accuracy: 0.8623\n",
      "Epoch 3/25\n",
      "3/3 [==============================] - 9s 3s/step - loss: 0.6654 - accuracy: 0.5952 - val_loss: 0.4529 - val_accuracy: 0.7803\n",
      "Epoch 4/25\n",
      "3/3 [==============================] - 10s 3s/step - loss: 0.5966 - accuracy: 0.7083 - val_loss: 0.3735 - val_accuracy: 0.8740\n",
      "Epoch 5/25\n",
      "3/3 [==============================] - 11s 4s/step - loss: 0.5891 - accuracy: 0.6458 - val_loss: 0.3913 - val_accuracy: 0.8076\n",
      "Epoch 6/25\n",
      "3/3 [==============================] - 11s 4s/step - loss: 0.7014 - accuracy: 0.5833 - val_loss: 0.4917 - val_accuracy: 0.7832\n",
      "Epoch 7/25\n",
      "3/3 [==============================] - 11s 4s/step - loss: 0.5521 - accuracy: 0.7292 - val_loss: 0.4903 - val_accuracy: 0.7920\n",
      "Epoch 8/25\n",
      "3/3 [==============================] - 11s 4s/step - loss: 0.5541 - accuracy: 0.7381 - val_loss: 0.5986 - val_accuracy: 0.6904\n",
      "Epoch 9/25\n",
      "3/3 [==============================] - 11s 4s/step - loss: 0.5222 - accuracy: 0.7143 - val_loss: 0.5260 - val_accuracy: 0.7539\n",
      "Epoch 10/25\n",
      "3/3 [==============================] - 11s 4s/step - loss: 0.7319 - accuracy: 0.7083 - val_loss: 0.6653 - val_accuracy: 0.5254\n",
      "Epoch 11/25\n",
      "3/3 [==============================] - 10s 3s/step - loss: 0.6924 - accuracy: 0.5208 - val_loss: 0.5800 - val_accuracy: 0.7002\n",
      "Epoch 12/25\n",
      "3/3 [==============================] - 11s 4s/step - loss: 0.5940 - accuracy: 0.7083 - val_loss: 0.5429 - val_accuracy: 0.6973\n",
      "Epoch 13/25\n",
      "3/3 [==============================] - 11s 4s/step - loss: 0.5704 - accuracy: 0.6429 - val_loss: 0.4168 - val_accuracy: 0.8125\n",
      "Epoch 14/25\n",
      "3/3 [==============================] - 11s 4s/step - loss: 0.5074 - accuracy: 0.6905 - val_loss: 0.6005 - val_accuracy: 0.7305\n",
      "Epoch 15/25\n",
      "3/3 [==============================] - 11s 4s/step - loss: 0.5834 - accuracy: 0.7143 - val_loss: 0.4866 - val_accuracy: 0.7676\n",
      "Epoch 16/25\n",
      "3/3 [==============================] - 11s 4s/step - loss: 0.5604 - accuracy: 0.6875 - val_loss: 0.5059 - val_accuracy: 0.7480\n",
      "Epoch 17/25\n",
      "3/3 [==============================] - 11s 4s/step - loss: 0.4857 - accuracy: 0.8125 - val_loss: 0.4582 - val_accuracy: 0.7871\n",
      "Epoch 18/25\n",
      "3/3 [==============================] - 10s 3s/step - loss: 0.5493 - accuracy: 0.7708 - val_loss: 0.4373 - val_accuracy: 0.8018\n",
      "Epoch 19/25\n",
      "3/3 [==============================] - 11s 4s/step - loss: 0.5461 - accuracy: 0.6429 - val_loss: 0.5336 - val_accuracy: 0.7656\n",
      "Epoch 20/25\n",
      "3/3 [==============================] - 11s 4s/step - loss: 0.4722 - accuracy: 0.6875 - val_loss: 0.8076 - val_accuracy: 0.7568\n",
      "Epoch 21/25\n",
      "3/3 [==============================] - 10s 3s/step - loss: 0.5075 - accuracy: 0.7619 - val_loss: 0.7009 - val_accuracy: 0.7734\n",
      "Epoch 22/25\n",
      "3/3 [==============================] - 10s 3s/step - loss: 0.4399 - accuracy: 0.7857 - val_loss: 2.0052 - val_accuracy: 0.7295\n",
      "Epoch 23/25\n",
      "3/3 [==============================] - 11s 4s/step - loss: 1.0362 - accuracy: 0.7619 - val_loss: 0.5674 - val_accuracy: 0.7490\n",
      "Epoch 24/25\n",
      "3/3 [==============================] - 10s 3s/step - loss: 0.5593 - accuracy: 0.6667 - val_loss: 0.6086 - val_accuracy: 0.6562\n",
      "Epoch 25/25\n",
      "3/3 [==============================] - 11s 4s/step - loss: 0.5248 - accuracy: 0.7083 - val_loss: 0.6173 - val_accuracy: 0.6777\n"
     ]
    },
    {
     "data": {
      "text/plain": [
       "<tensorflow.python.keras.callbacks.History at 0x210814caa08>"
      ]
     },
     "execution_count": 28,
     "metadata": {},
     "output_type": "execute_result"
    }
   ],
   "source": [
    "train_datagen = ImageDataGenerator(\n",
    "        rescale=1/255,   # All images will be rescaled by 1./255\n",
    "        rotation_range=40,\n",
    "        width_shift_range=0.2,\n",
    "        height_shift_range=0.2,\n",
    "        horizontal_flip=True)\n",
    "test_datagen = ImageDataGenerator(rescale=1./255)\n",
    "# Flow training images in batches of 128 using train_datagen generator\n",
    "train_generator = train_datagen.flow_from_directory(\n",
    "        r'C:\\Users\\User\\Desktop\\test',     \n",
    "        target_size=(300, 300),  # All images will be resized to 300x300\n",
    "        batch_size=16,\n",
    "        # Since we use binary_crossentropy loss, we need binary labels\n",
    "        class_mode='binary')\n",
    "\n",
    "validation_generator = test_datagen.flow_from_directory(\n",
    "        r'C:\\Users\\User\\horsehuman',\n",
    "        target_size=(300, 300),\n",
    "        batch_size=32,\n",
    "        class_mode='binary')\n",
    "\n",
    "model.fit_generator(\n",
    "        train_generator,\n",
    "        steps_per_epoch=3 ,\n",
    "        epochs=25,\n",
    "        validation_data=validation_generator,\n",
    "        validation_steps=1024 // 32)"
   ]
  },
  {
   "cell_type": "raw",
   "metadata": {},
   "source": [
    "higher validation accuracy than previous case shows the effect of a good, representative training dataset "
   ]
  },
  {
   "cell_type": "code",
   "execution_count": 29,
   "metadata": {},
   "outputs": [
    {
     "name": "stdout",
     "output_type": "stream",
     "text": [
      "Found 32 images belonging to 2 classes.\n",
      "32/32 [==============================] - 1s 27ms/step\n"
     ]
    }
   ],
   "source": [
    "predict_datagen = ImageDataGenerator(rescale=1./255)\n",
    "prediction_generator = predict_datagen.flow_from_directory(\n",
    "        r'C:\\Users\\User\\Desktop\\new_images',\n",
    "        target_size=(300, 300),\n",
    "        batch_size=1,\n",
    "        class_mode='binary',\n",
    "        shuffle=False)\n",
    "\n",
    "pred=model.predict_generator(\n",
    "        prediction_generator, \n",
    "        steps=len(prediction_generator),\n",
    "        verbose=1\n",
    "        )    # gives a 1d array of class probabilities. in this case, a single probability\n",
    "pred=pred.flatten()"
   ]
  },
  {
   "cell_type": "code",
   "execution_count": 30,
   "metadata": {},
   "outputs": [],
   "source": [
    "# for converting probailites into the corresponding predicted classes\n",
    "predicted_class_indices=[] \n",
    "for i in pred:\n",
    "    if i<0.5:\n",
    "        predicted_class_indices.append(0)\n",
    "    else:\n",
    "        predicted_class_indices.append(1)        \n",
    "# predicted_class_indices=np.argmax(pred,axis=1)   <- use this instead of above code if a multi class classification is used\n",
    "\n",
    "\n",
    "# for getting the actual class labels\n",
    "true_labels= [] \n",
    "classlabel=0\n",
    "for i in os.listdir(r'C:\\Users\\User\\Desktop\\new_images'):\n",
    "    j=os.path.join(r'C:\\Users\\User\\Desktop\\new_images',i)\n",
    "    l=len(os.listdir(j))\n",
    "    for k in range(l):\n",
    "        true_labels.append(classlabel)\n",
    "    classlabel+=1"
   ]
  },
  {
   "cell_type": "code",
   "execution_count": 31,
   "metadata": {},
   "outputs": [
    {
     "data": {
      "text/plain": [
       "Text(69.0, 0.5, 'actual')"
      ]
     },
     "execution_count": 31,
     "metadata": {},
     "output_type": "execute_result"
    },
    {
     "data": {
      "image/png": "[encoded data removed]",
      "text/plain": [
       "<Figure size 720x360 with 2 Axes>"
      ]
     },
     "metadata": {
      "needs_background": "light"
     },
     "output_type": "display_data"
    }
   ],
   "source": [
    "cm=tf.math.confusion_matrix(labels=true_labels,predictions=predicted_class_indices)\n",
    "\n",
    "plt.figure(figsize=(10,5))\n",
    "sn.heatmap(cm,annot=True, linewidth=0.5)\n",
    "plt.xlabel('predicted')\n",
    "plt.ylabel('actual')"
   ]
  },
  {
   "cell_type": "markdown",
   "metadata": {},
   "source": [
    "##### for getting the predictions in a tabular form with image vs corresponding prediction, do this"
   ]
  },
  {
   "cell_type": "raw",
   "metadata": {},
   "source": [
    "labels = (train_generator.class_indices)\n",
    "labels = dict((v,k) for k,v in labels.items())\n",
    "predictions = [labels[k] for k in predicted_class_indices]\n",
    "\n",
    "filenames=prediction_generator.filenames\n",
    "results=pd.DataFrame({\"Filename\":filenames,\n",
    "                      \"Predictions\":predictions})\n",
    "results"
   ]
  },
  {
   "cell_type": "markdown",
   "metadata": {},
   "source": [
    "#### generating more images - for fun"
   ]
  },
  {
   "cell_type": "raw",
   "metadata": {},
   "source": [
    "from tensorflow.keras.preprocessing.image import load_img\n",
    "from tensorflow.keras.preprocessing.image import img_to_array\n",
    "from tensorflow.keras.preprocessing.image import ImageDataGenerator\n",
    "\n",
    "datagen = ImageDataGenerator(\n",
    "        rotation_range=40,\n",
    "        width_shift_range=0.2,\n",
    "        height_shift_range=0.2,\n",
    "        shear_range=0.2,\n",
    "        zoom_range=0.2,\n",
    "        horizontal_flip=True,\n",
    "        fill_mode='nearest')\n",
    "\n",
    "path1=r'C:\\Users\\User\\Pictures\\Saved Pictures\\New folder'\n",
    "for i in os.listdir(path1):\n",
    "    newpath=os.path.join(path1,i)\n",
    "    img = load_img(newpath)  # this is a PIL image\n",
    "    x = img_to_array(img)  # this is a Numpy array with shape (3, 150, 150)\n",
    "    x = x.reshape((1,) + x.shape)  # this is a Numpy array with shape (1,3,150,150)  this reshapig is equiv to:  expand_dims(data, 0)\n",
    "\n",
    "# the .flow() command below generates batches of randomly transformed images\n",
    "# and saves the results to the `preview/` directory\n",
    "    i = 0\n",
    "    for batch in datagen.flow(x, batch_size=1, save_to_dir=r'C:\\Users\\User\\Desktop\\gen umages', save_prefix='pussy', save_format='jpeg'):\n",
    "        i += 1\n",
    "        if i > 20:\n",
    "            break"
   ]
  },
  {
   "cell_type": "markdown",
   "metadata": {},
   "source": [
    "#### predicting a single image"
   ]
  },
  {
   "cell_type": "raw",
   "metadata": {},
   "source": [
    "from tensorflow.keras.preprocessing import image\n",
    "path = r'C:\\Users\\User\\Desktop\\gen umages\\.jpeg'\n",
    "img = image.load_img(path, target_size=(300, 300))\n",
    "x = image.img_to_array(img)\n",
    "x = np.expand_dims(x, axis=0)\n",
    "\n",
    "images = np.vstack([x])\n",
    "classes = model.predict(images, batch_size=10)\n",
    "print(classes[0])\n",
    "if classes[0]>0.5:\n",
    "    print(\"it is a human\")\n",
    "else:\n",
    "    print(\"it is a horse\")"
   ]
  },
  {
   "cell_type": "code",
   "execution_count": null,
   "metadata": {},
   "outputs": [],
   "source": []
  },
  {
   "cell_type": "markdown",
   "metadata": {},
   "source": [
    "### transfer learning"
   ]
  },
  {
   "cell_type": "code",
   "execution_count": 41,
   "metadata": {},
   "outputs": [],
   "source": [
    "IMG_SIZE=160\n",
    "IMG_SHAPE = (IMG_SIZE, IMG_SIZE, 3)\n",
    "\n",
    "# Create the base model from the pre-trained model MobileNet V2\n",
    "base_model2 = tf.keras.applications.MobileNetV2(input_shape=IMG_SHAPE,\n",
    "                                               include_top=False,\n",
    "                                               weights='imagenet')"
   ]
  },
  {
   "cell_type": "code",
   "execution_count": 42,
   "metadata": {},
   "outputs": [
    {
     "name": "stdout",
     "output_type": "stream",
     "text": [
      "Model: \"mobilenetv2_1.00_160\"\n",
      "__________________________________________________________________________________________________\n",
      "Layer (type)                    Output Shape         Param #     Connected to                     \n",
      "==================================================================================================\n",
      "input_2 (InputLayer)            [(None, 160, 160, 3) 0                                            \n",
      "__________________________________________________________________________________________________\n",
      "Conv1_pad (ZeroPadding2D)       (None, 161, 161, 3)  0           input_2[0][0]                    \n",
      "__________________________________________________________________________________________________\n",
      "Conv1 (Conv2D)                  (None, 80, 80, 32)   864         Conv1_pad[0][0]                  \n",
      "__________________________________________________________________________________________________\n",
      "bn_Conv1 (BatchNormalization)   (None, 80, 80, 32)   128         Conv1[0][0]                      \n",
      "__________________________________________________________________________________________________\n",
      "Conv1_relu (ReLU)               (None, 80, 80, 32)   0           bn_Conv1[0][0]                   \n",
      "__________________________________________________________________________________________________\n",
      "expanded_conv_depthwise (Depthw (None, 80, 80, 32)   288         Conv1_relu[0][0]                 \n",
      "__________________________________________________________________________________________________\n",
      "expanded_conv_depthwise_BN (Bat (None, 80, 80, 32)   128         expanded_conv_depthwise[0][0]    \n",
      "__________________________________________________________________________________________________\n",
      "expanded_conv_depthwise_relu (R (None, 80, 80, 32)   0           expanded_conv_depthwise_BN[0][0] \n",
      "__________________________________________________________________________________________________\n",
      "expanded_conv_project (Conv2D)  (None, 80, 80, 16)   512         expanded_conv_depthwise_relu[0][0\n",
      "__________________________________________________________________________________________________\n",
      "expanded_conv_project_BN (Batch (None, 80, 80, 16)   64          expanded_conv_project[0][0]      \n",
      "__________________________________________________________________________________________________\n",
      "block_1_expand (Conv2D)         (None, 80, 80, 96)   1536        expanded_conv_project_BN[0][0]   \n",
      "__________________________________________________________________________________________________\n",
      "block_1_expand_BN (BatchNormali (None, 80, 80, 96)   384         block_1_expand[0][0]             \n",
      "__________________________________________________________________________________________________\n",
      "block_1_expand_relu (ReLU)      (None, 80, 80, 96)   0           block_1_expand_BN[0][0]          \n",
      "__________________________________________________________________________________________________\n",
      "block_1_pad (ZeroPadding2D)     (None, 81, 81, 96)   0           block_1_expand_relu[0][0]        \n",
      "__________________________________________________________________________________________________\n",
      "block_1_depthwise (DepthwiseCon (None, 40, 40, 96)   864         block_1_pad[0][0]                \n",
      "__________________________________________________________________________________________________\n",
      "block_1_depthwise_BN (BatchNorm (None, 40, 40, 96)   384         block_1_depthwise[0][0]          \n",
      "__________________________________________________________________________________________________\n",
      "block_1_depthwise_relu (ReLU)   (None, 40, 40, 96)   0           block_1_depthwise_BN[0][0]       \n",
      "__________________________________________________________________________________________________\n",
      "block_1_project (Conv2D)        (None, 40, 40, 24)   2304        block_1_depthwise_relu[0][0]     \n",
      "__________________________________________________________________________________________________\n",
      "block_1_project_BN (BatchNormal (None, 40, 40, 24)   96          block_1_project[0][0]            \n",
      "__________________________________________________________________________________________________\n",
      "block_2_expand (Conv2D)         (None, 40, 40, 144)  3456        block_1_project_BN[0][0]         \n",
      "__________________________________________________________________________________________________\n",
      "block_2_expand_BN (BatchNormali (None, 40, 40, 144)  576         block_2_expand[0][0]             \n",
      "__________________________________________________________________________________________________\n",
      "block_2_expand_relu (ReLU)      (None, 40, 40, 144)  0           block_2_expand_BN[0][0]          \n",
      "__________________________________________________________________________________________________\n",
      "block_2_depthwise (DepthwiseCon (None, 40, 40, 144)  1296        block_2_expand_relu[0][0]        \n",
      "__________________________________________________________________________________________________\n",
      "block_2_depthwise_BN (BatchNorm (None, 40, 40, 144)  576         block_2_depthwise[0][0]          \n",
      "__________________________________________________________________________________________________\n",
      "block_2_depthwise_relu (ReLU)   (None, 40, 40, 144)  0           block_2_depthwise_BN[0][0]       \n",
      "__________________________________________________________________________________________________\n",
      "block_2_project (Conv2D)        (None, 40, 40, 24)   3456        block_2_depthwise_relu[0][0]     \n",
      "__________________________________________________________________________________________________\n",
      "block_2_project_BN (BatchNormal (None, 40, 40, 24)   96          block_2_project[0][0]            \n",
      "__________________________________________________________________________________________________\n",
      "block_2_add (Add)               (None, 40, 40, 24)   0           block_1_project_BN[0][0]         \n",
      "                                                                 block_2_project_BN[0][0]         \n",
      "__________________________________________________________________________________________________\n",
      "block_3_expand (Conv2D)         (None, 40, 40, 144)  3456        block_2_add[0][0]                \n",
      "__________________________________________________________________________________________________\n",
      "block_3_expand_BN (BatchNormali (None, 40, 40, 144)  576         block_3_expand[0][0]             \n",
      "__________________________________________________________________________________________________\n",
      "block_3_expand_relu (ReLU)      (None, 40, 40, 144)  0           block_3_expand_BN[0][0]          \n",
      "__________________________________________________________________________________________________\n",
      "block_3_pad (ZeroPadding2D)     (None, 41, 41, 144)  0           block_3_expand_relu[0][0]        \n",
      "__________________________________________________________________________________________________\n",
      "block_3_depthwise (DepthwiseCon (None, 20, 20, 144)  1296        block_3_pad[0][0]                \n",
      "__________________________________________________________________________________________________\n",
      "block_3_depthwise_BN (BatchNorm (None, 20, 20, 144)  576         block_3_depthwise[0][0]          \n",
      "__________________________________________________________________________________________________\n",
      "block_3_depthwise_relu (ReLU)   (None, 20, 20, 144)  0           block_3_depthwise_BN[0][0]       \n",
      "__________________________________________________________________________________________________\n",
      "block_3_project (Conv2D)        (None, 20, 20, 32)   4608        block_3_depthwise_relu[0][0]     \n",
      "__________________________________________________________________________________________________\n",
      "block_3_project_BN (BatchNormal (None, 20, 20, 32)   128         block_3_project[0][0]            \n",
      "__________________________________________________________________________________________________\n",
      "block_4_expand (Conv2D)         (None, 20, 20, 192)  6144        block_3_project_BN[0][0]         \n",
      "__________________________________________________________________________________________________\n",
      "block_4_expand_BN (BatchNormali (None, 20, 20, 192)  768         block_4_expand[0][0]             \n",
      "__________________________________________________________________________________________________\n",
      "block_4_expand_relu (ReLU)      (None, 20, 20, 192)  0           block_4_expand_BN[0][0]          \n",
      "__________________________________________________________________________________________________\n",
      "block_4_depthwise (DepthwiseCon (None, 20, 20, 192)  1728        block_4_expand_relu[0][0]        \n",
      "__________________________________________________________________________________________________\n",
      "block_4_depthwise_BN (BatchNorm (None, 20, 20, 192)  768         block_4_depthwise[0][0]          \n",
      "__________________________________________________________________________________________________\n",
      "block_4_depthwise_relu (ReLU)   (None, 20, 20, 192)  0           block_4_depthwise_BN[0][0]       \n",
      "__________________________________________________________________________________________________\n",
      "block_4_project (Conv2D)        (None, 20, 20, 32)   6144        block_4_depthwise_relu[0][0]     \n",
      "__________________________________________________________________________________________________\n",
      "block_4_project_BN (BatchNormal (None, 20, 20, 32)   128         block_4_project[0][0]            \n",
      "__________________________________________________________________________________________________\n",
      "block_4_add (Add)               (None, 20, 20, 32)   0           block_3_project_BN[0][0]         \n",
      "                                                                 block_4_project_BN[0][0]         \n",
      "__________________________________________________________________________________________________\n",
      "block_5_expand (Conv2D)         (None, 20, 20, 192)  6144        block_4_add[0][0]                \n",
      "__________________________________________________________________________________________________\n",
      "block_5_expand_BN (BatchNormali (None, 20, 20, 192)  768         block_5_expand[0][0]             \n",
      "__________________________________________________________________________________________________\n",
      "block_5_expand_relu (ReLU)      (None, 20, 20, 192)  0           block_5_expand_BN[0][0]          \n",
      "__________________________________________________________________________________________________\n",
      "block_5_depthwise (DepthwiseCon (None, 20, 20, 192)  1728        block_5_expand_relu[0][0]        \n",
      "__________________________________________________________________________________________________\n",
      "block_5_depthwise_BN (BatchNorm (None, 20, 20, 192)  768         block_5_depthwise[0][0]          \n",
      "__________________________________________________________________________________________________\n",
      "block_5_depthwise_relu (ReLU)   (None, 20, 20, 192)  0           block_5_depthwise_BN[0][0]       \n",
      "__________________________________________________________________________________________________\n",
      "block_5_project (Conv2D)        (None, 20, 20, 32)   6144        block_5_depthwise_relu[0][0]     \n",
      "__________________________________________________________________________________________________\n",
      "block_5_project_BN (BatchNormal (None, 20, 20, 32)   128         block_5_project[0][0]            \n",
      "__________________________________________________________________________________________________\n",
      "block_5_add (Add)               (None, 20, 20, 32)   0           block_4_add[0][0]                \n",
      "                                                                 block_5_project_BN[0][0]         \n",
      "__________________________________________________________________________________________________\n",
      "block_6_expand (Conv2D)         (None, 20, 20, 192)  6144        block_5_add[0][0]                \n",
      "__________________________________________________________________________________________________\n",
      "block_6_expand_BN (BatchNormali (None, 20, 20, 192)  768         block_6_expand[0][0]             \n",
      "__________________________________________________________________________________________________\n",
      "block_6_expand_relu (ReLU)      (None, 20, 20, 192)  0           block_6_expand_BN[0][0]          \n",
      "__________________________________________________________________________________________________\n",
      "block_6_pad (ZeroPadding2D)     (None, 21, 21, 192)  0           block_6_expand_relu[0][0]        \n",
      "__________________________________________________________________________________________________\n",
      "block_6_depthwise (DepthwiseCon (None, 10, 10, 192)  1728        block_6_pad[0][0]                \n",
      "__________________________________________________________________________________________________\n",
      "block_6_depthwise_BN (BatchNorm (None, 10, 10, 192)  768         block_6_depthwise[0][0]          \n",
      "__________________________________________________________________________________________________\n",
      "block_6_depthwise_relu (ReLU)   (None, 10, 10, 192)  0           block_6_depthwise_BN[0][0]       \n",
      "__________________________________________________________________________________________________\n",
      "block_6_project (Conv2D)        (None, 10, 10, 64)   12288       block_6_depthwise_relu[0][0]     \n",
      "__________________________________________________________________________________________________\n",
      "block_6_project_BN (BatchNormal (None, 10, 10, 64)   256         block_6_project[0][0]            \n",
      "__________________________________________________________________________________________________\n",
      "block_7_expand (Conv2D)         (None, 10, 10, 384)  24576       block_6_project_BN[0][0]         \n",
      "__________________________________________________________________________________________________\n",
      "block_7_expand_BN (BatchNormali (None, 10, 10, 384)  1536        block_7_expand[0][0]             \n",
      "__________________________________________________________________________________________________\n",
      "block_7_expand_relu (ReLU)      (None, 10, 10, 384)  0           block_7_expand_BN[0][0]          \n",
      "__________________________________________________________________________________________________\n",
      "block_7_depthwise (DepthwiseCon (None, 10, 10, 384)  3456        block_7_expand_relu[0][0]        \n",
      "__________________________________________________________________________________________________\n",
      "block_7_depthwise_BN (BatchNorm (None, 10, 10, 384)  1536        block_7_depthwise[0][0]          \n",
      "__________________________________________________________________________________________________\n",
      "block_7_depthwise_relu (ReLU)   (None, 10, 10, 384)  0           block_7_depthwise_BN[0][0]       \n",
      "__________________________________________________________________________________________________\n",
      "block_7_project (Conv2D)        (None, 10, 10, 64)   24576       block_7_depthwise_relu[0][0]     \n",
      "__________________________________________________________________________________________________\n",
      "block_7_project_BN (BatchNormal (None, 10, 10, 64)   256         block_7_project[0][0]            \n",
      "__________________________________________________________________________________________________\n",
      "block_7_add (Add)               (None, 10, 10, 64)   0           block_6_project_BN[0][0]         \n",
      "                                                                 block_7_project_BN[0][0]         \n",
      "__________________________________________________________________________________________________\n",
      "block_8_expand (Conv2D)         (None, 10, 10, 384)  24576       block_7_add[0][0]                \n",
      "__________________________________________________________________________________________________\n",
      "block_8_expand_BN (BatchNormali (None, 10, 10, 384)  1536        block_8_expand[0][0]             \n",
      "__________________________________________________________________________________________________\n",
      "block_8_expand_relu (ReLU)      (None, 10, 10, 384)  0           block_8_expand_BN[0][0]          \n",
      "__________________________________________________________________________________________________\n",
      "block_8_depthwise (DepthwiseCon (None, 10, 10, 384)  3456        block_8_expand_relu[0][0]        \n",
      "__________________________________________________________________________________________________\n",
      "block_8_depthwise_BN (BatchNorm (None, 10, 10, 384)  1536        block_8_depthwise[0][0]          \n",
      "__________________________________________________________________________________________________\n",
      "block_8_depthwise_relu (ReLU)   (None, 10, 10, 384)  0           block_8_depthwise_BN[0][0]       \n",
      "__________________________________________________________________________________________________\n",
      "block_8_project (Conv2D)        (None, 10, 10, 64)   24576       block_8_depthwise_relu[0][0]     \n",
      "__________________________________________________________________________________________________\n",
      "block_8_project_BN (BatchNormal (None, 10, 10, 64)   256         block_8_project[0][0]            \n",
      "__________________________________________________________________________________________________\n",
      "block_8_add (Add)               (None, 10, 10, 64)   0           block_7_add[0][0]                \n",
      "                                                                 block_8_project_BN[0][0]         \n",
      "__________________________________________________________________________________________________\n",
      "block_9_expand (Conv2D)         (None, 10, 10, 384)  24576       block_8_add[0][0]                \n",
      "__________________________________________________________________________________________________\n",
      "block_9_expand_BN (BatchNormali (None, 10, 10, 384)  1536        block_9_expand[0][0]             \n",
      "__________________________________________________________________________________________________\n",
      "block_9_expand_relu (ReLU)      (None, 10, 10, 384)  0           block_9_expand_BN[0][0]          \n",
      "__________________________________________________________________________________________________\n",
      "block_9_depthwise (DepthwiseCon (None, 10, 10, 384)  3456        block_9_expand_relu[0][0]        \n",
      "__________________________________________________________________________________________________\n",
      "block_9_depthwise_BN (BatchNorm (None, 10, 10, 384)  1536        block_9_depthwise[0][0]          \n",
      "__________________________________________________________________________________________________\n",
      "block_9_depthwise_relu (ReLU)   (None, 10, 10, 384)  0           block_9_depthwise_BN[0][0]       \n",
      "__________________________________________________________________________________________________\n",
      "block_9_project (Conv2D)        (None, 10, 10, 64)   24576       block_9_depthwise_relu[0][0]     \n",
      "__________________________________________________________________________________________________\n",
      "block_9_project_BN (BatchNormal (None, 10, 10, 64)   256         block_9_project[0][0]            \n",
      "__________________________________________________________________________________________________\n",
      "block_9_add (Add)               (None, 10, 10, 64)   0           block_8_add[0][0]                \n",
      "                                                                 block_9_project_BN[0][0]         \n",
      "__________________________________________________________________________________________________\n",
      "block_10_expand (Conv2D)        (None, 10, 10, 384)  24576       block_9_add[0][0]                \n",
      "__________________________________________________________________________________________________\n",
      "block_10_expand_BN (BatchNormal (None, 10, 10, 384)  1536        block_10_expand[0][0]            \n",
      "__________________________________________________________________________________________________\n",
      "block_10_expand_relu (ReLU)     (None, 10, 10, 384)  0           block_10_expand_BN[0][0]         \n",
      "__________________________________________________________________________________________________\n",
      "block_10_depthwise (DepthwiseCo (None, 10, 10, 384)  3456        block_10_expand_relu[0][0]       \n",
      "__________________________________________________________________________________________________\n",
      "block_10_depthwise_BN (BatchNor (None, 10, 10, 384)  1536        block_10_depthwise[0][0]         \n",
      "__________________________________________________________________________________________________\n",
      "block_10_depthwise_relu (ReLU)  (None, 10, 10, 384)  0           block_10_depthwise_BN[0][0]      \n",
      "__________________________________________________________________________________________________\n",
      "block_10_project (Conv2D)       (None, 10, 10, 96)   36864       block_10_depthwise_relu[0][0]    \n",
      "__________________________________________________________________________________________________\n",
      "block_10_project_BN (BatchNorma (None, 10, 10, 96)   384         block_10_project[0][0]           \n",
      "__________________________________________________________________________________________________\n",
      "block_11_expand (Conv2D)        (None, 10, 10, 576)  55296       block_10_project_BN[0][0]        \n",
      "__________________________________________________________________________________________________\n",
      "block_11_expand_BN (BatchNormal (None, 10, 10, 576)  2304        block_11_expand[0][0]            \n",
      "__________________________________________________________________________________________________\n",
      "block_11_expand_relu (ReLU)     (None, 10, 10, 576)  0           block_11_expand_BN[0][0]         \n",
      "__________________________________________________________________________________________________\n",
      "block_11_depthwise (DepthwiseCo (None, 10, 10, 576)  5184        block_11_expand_relu[0][0]       \n",
      "__________________________________________________________________________________________________\n",
      "block_11_depthwise_BN (BatchNor (None, 10, 10, 576)  2304        block_11_depthwise[0][0]         \n",
      "__________________________________________________________________________________________________\n",
      "block_11_depthwise_relu (ReLU)  (None, 10, 10, 576)  0           block_11_depthwise_BN[0][0]      \n",
      "__________________________________________________________________________________________________\n",
      "block_11_project (Conv2D)       (None, 10, 10, 96)   55296       block_11_depthwise_relu[0][0]    \n",
      "__________________________________________________________________________________________________\n",
      "block_11_project_BN (BatchNorma (None, 10, 10, 96)   384         block_11_project[0][0]           \n",
      "__________________________________________________________________________________________________\n",
      "block_11_add (Add)              (None, 10, 10, 96)   0           block_10_project_BN[0][0]        \n",
      "                                                                 block_11_project_BN[0][0]        \n",
      "__________________________________________________________________________________________________\n",
      "block_12_expand (Conv2D)        (None, 10, 10, 576)  55296       block_11_add[0][0]               \n",
      "__________________________________________________________________________________________________\n",
      "block_12_expand_BN (BatchNormal (None, 10, 10, 576)  2304        block_12_expand[0][0]            \n",
      "__________________________________________________________________________________________________\n",
      "block_12_expand_relu (ReLU)     (None, 10, 10, 576)  0           block_12_expand_BN[0][0]         \n",
      "__________________________________________________________________________________________________\n",
      "block_12_depthwise (DepthwiseCo (None, 10, 10, 576)  5184        block_12_expand_relu[0][0]       \n",
      "__________________________________________________________________________________________________\n",
      "block_12_depthwise_BN (BatchNor (None, 10, 10, 576)  2304        block_12_depthwise[0][0]         \n",
      "__________________________________________________________________________________________________\n",
      "block_12_depthwise_relu (ReLU)  (None, 10, 10, 576)  0           block_12_depthwise_BN[0][0]      \n",
      "__________________________________________________________________________________________________\n",
      "block_12_project (Conv2D)       (None, 10, 10, 96)   55296       block_12_depthwise_relu[0][0]    \n",
      "__________________________________________________________________________________________________\n",
      "block_12_project_BN (BatchNorma (None, 10, 10, 96)   384         block_12_project[0][0]           \n",
      "__________________________________________________________________________________________________\n",
      "block_12_add (Add)              (None, 10, 10, 96)   0           block_11_add[0][0]               \n",
      "                                                                 block_12_project_BN[0][0]        \n",
      "__________________________________________________________________________________________________\n",
      "block_13_expand (Conv2D)        (None, 10, 10, 576)  55296       block_12_add[0][0]               \n",
      "__________________________________________________________________________________________________\n",
      "block_13_expand_BN (BatchNormal (None, 10, 10, 576)  2304        block_13_expand[0][0]            \n",
      "__________________________________________________________________________________________________\n",
      "block_13_expand_relu (ReLU)     (None, 10, 10, 576)  0           block_13_expand_BN[0][0]         \n",
      "__________________________________________________________________________________________________\n",
      "block_13_pad (ZeroPadding2D)    (None, 11, 11, 576)  0           block_13_expand_relu[0][0]       \n",
      "__________________________________________________________________________________________________\n",
      "block_13_depthwise (DepthwiseCo (None, 5, 5, 576)    5184        block_13_pad[0][0]               \n",
      "__________________________________________________________________________________________________\n",
      "block_13_depthwise_BN (BatchNor (None, 5, 5, 576)    2304        block_13_depthwise[0][0]         \n",
      "__________________________________________________________________________________________________\n",
      "block_13_depthwise_relu (ReLU)  (None, 5, 5, 576)    0           block_13_depthwise_BN[0][0]      \n",
      "__________________________________________________________________________________________________\n",
      "block_13_project (Conv2D)       (None, 5, 5, 160)    92160       block_13_depthwise_relu[0][0]    \n",
      "__________________________________________________________________________________________________\n",
      "block_13_project_BN (BatchNorma (None, 5, 5, 160)    640         block_13_project[0][0]           \n",
      "__________________________________________________________________________________________________\n",
      "block_14_expand (Conv2D)        (None, 5, 5, 960)    153600      block_13_project_BN[0][0]        \n",
      "__________________________________________________________________________________________________\n",
      "block_14_expand_BN (BatchNormal (None, 5, 5, 960)    3840        block_14_expand[0][0]            \n",
      "__________________________________________________________________________________________________\n",
      "block_14_expand_relu (ReLU)     (None, 5, 5, 960)    0           block_14_expand_BN[0][0]         \n",
      "__________________________________________________________________________________________________\n",
      "block_14_depthwise (DepthwiseCo (None, 5, 5, 960)    8640        block_14_expand_relu[0][0]       \n",
      "__________________________________________________________________________________________________\n",
      "block_14_depthwise_BN (BatchNor (None, 5, 5, 960)    3840        block_14_depthwise[0][0]         \n",
      "__________________________________________________________________________________________________\n",
      "block_14_depthwise_relu (ReLU)  (None, 5, 5, 960)    0           block_14_depthwise_BN[0][0]      \n",
      "__________________________________________________________________________________________________\n",
      "block_14_project (Conv2D)       (None, 5, 5, 160)    153600      block_14_depthwise_relu[0][0]    \n",
      "__________________________________________________________________________________________________\n",
      "block_14_project_BN (BatchNorma (None, 5, 5, 160)    640         block_14_project[0][0]           \n",
      "__________________________________________________________________________________________________\n",
      "block_14_add (Add)              (None, 5, 5, 160)    0           block_13_project_BN[0][0]        \n",
      "                                                                 block_14_project_BN[0][0]        \n",
      "__________________________________________________________________________________________________\n",
      "block_15_expand (Conv2D)        (None, 5, 5, 960)    153600      block_14_add[0][0]               \n",
      "__________________________________________________________________________________________________\n",
      "block_15_expand_BN (BatchNormal (None, 5, 5, 960)    3840        block_15_expand[0][0]            \n",
      "__________________________________________________________________________________________________\n",
      "block_15_expand_relu (ReLU)     (None, 5, 5, 960)    0           block_15_expand_BN[0][0]         \n",
      "__________________________________________________________________________________________________\n",
      "block_15_depthwise (DepthwiseCo (None, 5, 5, 960)    8640        block_15_expand_relu[0][0]       \n",
      "__________________________________________________________________________________________________\n",
      "block_15_depthwise_BN (BatchNor (None, 5, 5, 960)    3840        block_15_depthwise[0][0]         \n",
      "__________________________________________________________________________________________________\n",
      "block_15_depthwise_relu (ReLU)  (None, 5, 5, 960)    0           block_15_depthwise_BN[0][0]      \n",
      "__________________________________________________________________________________________________\n",
      "block_15_project (Conv2D)       (None, 5, 5, 160)    153600      block_15_depthwise_relu[0][0]    \n",
      "__________________________________________________________________________________________________\n",
      "block_15_project_BN (BatchNorma (None, 5, 5, 160)    640         block_15_project[0][0]           \n",
      "__________________________________________________________________________________________________\n",
      "block_15_add (Add)              (None, 5, 5, 160)    0           block_14_add[0][0]               \n",
      "                                                                 block_15_project_BN[0][0]        \n",
      "__________________________________________________________________________________________________\n",
      "block_16_expand (Conv2D)        (None, 5, 5, 960)    153600      block_15_add[0][0]               \n",
      "__________________________________________________________________________________________________\n",
      "block_16_expand_BN (BatchNormal (None, 5, 5, 960)    3840        block_16_expand[0][0]            \n",
      "__________________________________________________________________________________________________\n",
      "block_16_expand_relu (ReLU)     (None, 5, 5, 960)    0           block_16_expand_BN[0][0]         \n",
      "__________________________________________________________________________________________________\n",
      "block_16_depthwise (DepthwiseCo (None, 5, 5, 960)    8640        block_16_expand_relu[0][0]       \n",
      "__________________________________________________________________________________________________\n",
      "block_16_depthwise_BN (BatchNor (None, 5, 5, 960)    3840        block_16_depthwise[0][0]         \n",
      "__________________________________________________________________________________________________\n",
      "block_16_depthwise_relu (ReLU)  (None, 5, 5, 960)    0           block_16_depthwise_BN[0][0]      \n",
      "__________________________________________________________________________________________________\n",
      "block_16_project (Conv2D)       (None, 5, 5, 320)    307200      block_16_depthwise_relu[0][0]    \n",
      "__________________________________________________________________________________________________\n",
      "block_16_project_BN (BatchNorma (None, 5, 5, 320)    1280        block_16_project[0][0]           \n",
      "__________________________________________________________________________________________________\n",
      "Conv_1 (Conv2D)                 (None, 5, 5, 1280)   409600      block_16_project_BN[0][0]        \n",
      "__________________________________________________________________________________________________\n",
      "Conv_1_bn (BatchNormalization)  (None, 5, 5, 1280)   5120        Conv_1[0][0]                     \n",
      "__________________________________________________________________________________________________\n",
      "out_relu (ReLU)                 (None, 5, 5, 1280)   0           Conv_1_bn[0][0]                  \n",
      "==================================================================================================\n",
      "Total params: 2,257,984\n",
      "Trainable params: 2,223,872\n",
      "Non-trainable params: 34,112\n",
      "__________________________________________________________________________________________________\n"
     ]
    }
   ],
   "source": [
    "base_model2.summary()"
   ]
  },
  {
   "cell_type": "code",
   "execution_count": 61,
   "metadata": {},
   "outputs": [],
   "source": [
    "base_model2.trainable = False"
   ]
  },
  {
   "cell_type": "code",
   "execution_count": 62,
   "metadata": {},
   "outputs": [],
   "source": [
    "global_average_layer = tf.keras.layers.GlobalAveragePooling2D()\n",
    "prediction_layer = keras.layers.Dense(1)"
   ]
  },
  {
   "cell_type": "code",
   "execution_count": 63,
   "metadata": {},
   "outputs": [],
   "source": [
    "new_model = tf.keras.Sequential([\n",
    "  base_model2,\n",
    "  global_average_layer,\n",
    "  prediction_layer\n",
    "])"
   ]
  },
  {
   "cell_type": "code",
   "execution_count": 64,
   "metadata": {},
   "outputs": [],
   "source": [
    "base_learning_rate = 0.0001\n",
    "new_model.compile(optimizer=tf.keras.optimizers.RMSprop(lr=base_learning_rate),\n",
    "              loss=tf.keras.losses.BinaryCrossentropy(from_logits=True),\n",
    "              metrics=['accuracy'])"
   ]
  },
  {
   "cell_type": "raw",
   "metadata": {},
   "source": [
    "new_model = tf.keras.models.Sequential([\n",
    "    base_model2,\n",
    "    # Flatten the results to feed into a DNN\n",
    "    tf.keras.layers.Flatten(),\n",
    "    # hidden layers\n",
    "    tf.keras.layers.Dense(128, activation='relu'),\n",
    "    tf.keras.layers.Dense(16, activation='relu'),\n",
    "    # Only 1 output neuron. It will contain a value from 0-1 where 0 for 1 class ('horses') and 1 for the other ('humans')\n",
    "    tf.keras.layers.Dense(1, activation='sigmoid')\n",
    "])\n",
    "\n",
    "new_model.compile(loss='binary_crossentropy',\n",
    "              optimizer=RMSprop(lr=0.001),\n",
    "              metrics=['accuracy'])"
   ]
  },
  {
   "cell_type": "code",
   "execution_count": 65,
   "metadata": {},
   "outputs": [
    {
     "name": "stdout",
     "output_type": "stream",
     "text": [
      "Found 1027 images belonging to 2 classes.\n",
      "Found 74 images belonging to 2 classes.\n",
      "WARNING:tensorflow:sample_weight modes were coerced from\n",
      "  ...\n",
      "    to  \n",
      "  ['...']\n",
      "WARNING:tensorflow:sample_weight modes were coerced from\n",
      "  ...\n",
      "    to  \n",
      "  ['...']\n",
      "Train for 8 steps, validate for 4 steps\n",
      "Epoch 1/25\n",
      "8/8 [==============================] - 7s 821ms/step - loss: 0.7612 - accuracy: 0.4945 - val_loss: 0.6646 - val_accuracy: 0.5000\n",
      "Epoch 2/25\n",
      "8/8 [==============================] - 3s 385ms/step - loss: 0.6784 - accuracy: 0.5166 - val_loss: 0.6361 - val_accuracy: 0.5156\n",
      "Epoch 3/25\n",
      "8/8 [==============================] - 3s 383ms/step - loss: 0.6343 - accuracy: 0.5543 - val_loss: 0.6133 - val_accuracy: 0.5625\n",
      "Epoch 4/25\n",
      "8/8 [==============================] - 3s 417ms/step - loss: 0.6312 - accuracy: 0.6152 - val_loss: 0.5881 - val_accuracy: 0.5781\n",
      "Epoch 5/25\n",
      "8/8 [==============================] - 3s 419ms/step - loss: 0.5947 - accuracy: 0.6445 - val_loss: 0.5634 - val_accuracy: 0.5781\n",
      "Epoch 6/25\n",
      "8/8 [==============================] - 3s 425ms/step - loss: 0.5510 - accuracy: 0.6758 - val_loss: 0.5416 - val_accuracy: 0.6250\n",
      "Epoch 7/25\n",
      "8/8 [==============================] - 3s 412ms/step - loss: 0.5203 - accuracy: 0.7207 - val_loss: 0.5217 - val_accuracy: 0.6250\n",
      "Epoch 8/25\n",
      "8/8 [==============================] - 3s 352ms/step - loss: 0.4765 - accuracy: 0.7251 - val_loss: 0.5026 - val_accuracy: 0.6406\n",
      "Epoch 9/25\n",
      "8/8 [==============================] - 3s 414ms/step - loss: 0.4619 - accuracy: 0.7480 - val_loss: 0.4863 - val_accuracy: 0.6719\n",
      "Epoch 10/25\n",
      "8/8 [==============================] - 3s 402ms/step - loss: 0.4325 - accuracy: 0.8204 - val_loss: 0.4677 - val_accuracy: 0.7031\n",
      "Epoch 11/25\n",
      "8/8 [==============================] - 3s 390ms/step - loss: 0.4124 - accuracy: 0.8337 - val_loss: 0.4499 - val_accuracy: 0.7188\n",
      "Epoch 12/25\n",
      "8/8 [==============================] - 3s 375ms/step - loss: 0.3780 - accuracy: 0.8514 - val_loss: 0.4354 - val_accuracy: 0.7656\n",
      "Epoch 13/25\n",
      "8/8 [==============================] - 3s 389ms/step - loss: 0.3764 - accuracy: 0.8914 - val_loss: 0.4169 - val_accuracy: 0.7969\n",
      "Epoch 14/25\n",
      "8/8 [==============================] - 3s 415ms/step - loss: 0.3534 - accuracy: 0.8758 - val_loss: 0.4037 - val_accuracy: 0.8438\n",
      "Epoch 15/25\n",
      "8/8 [==============================] - 3s 388ms/step - loss: 0.3412 - accuracy: 0.9160 - val_loss: 0.3873 - val_accuracy: 0.8594\n",
      "Epoch 16/25\n",
      "8/8 [==============================] - 3s 435ms/step - loss: 0.3270 - accuracy: 0.9199 - val_loss: 0.3737 - val_accuracy: 0.8906\n",
      "Epoch 17/25\n",
      "8/8 [==============================] - 4s 463ms/step - loss: 0.3000 - accuracy: 0.9316 - val_loss: 0.3607 - val_accuracy: 0.8906\n",
      "Epoch 18/25\n",
      "8/8 [==============================] - 3s 431ms/step - loss: 0.3029 - accuracy: 0.9199 - val_loss: 0.3480 - val_accuracy: 0.9219\n",
      "Epoch 19/25\n",
      "8/8 [==============================] - 3s 407ms/step - loss: 0.2858 - accuracy: 0.9277 - val_loss: 0.3366 - val_accuracy: 0.9219\n",
      "Epoch 20/25\n",
      "8/8 [==============================] - 3s 425ms/step - loss: 0.2647 - accuracy: 0.9395 - val_loss: 0.3267 - val_accuracy: 0.9531\n",
      "Epoch 21/25\n",
      "8/8 [==============================] - 4s 444ms/step - loss: 0.2544 - accuracy: 0.9570 - val_loss: 0.3130 - val_accuracy: 0.9531\n",
      "Epoch 22/25\n",
      "8/8 [==============================] - 3s 405ms/step - loss: 0.2492 - accuracy: 0.9446 - val_loss: 0.3047 - val_accuracy: 0.9531\n",
      "Epoch 23/25\n",
      "8/8 [==============================] - 4s 448ms/step - loss: 0.2262 - accuracy: 0.9648 - val_loss: 0.2946 - val_accuracy: 0.9531\n",
      "Epoch 24/25\n",
      "8/8 [==============================] - 3s 436ms/step - loss: 0.2191 - accuracy: 0.9707 - val_loss: 0.2826 - val_accuracy: 0.9531\n",
      "Epoch 25/25\n",
      "8/8 [==============================] - 4s 447ms/step - loss: 0.1998 - accuracy: 0.9805 - val_loss: 0.2724 - val_accuracy: 0.9531\n"
     ]
    },
    {
     "data": {
      "text/plain": [
       "<tensorflow.python.keras.callbacks.History at 0x212247160c8>"
      ]
     },
     "execution_count": 65,
     "metadata": {},
     "output_type": "execute_result"
    }
   ],
   "source": [
    "batch_size=16\n",
    "# All images will be rescaled by 1./255\n",
    "train_datagen = ImageDataGenerator(rescale=1/255)\n",
    "test_datagen = ImageDataGenerator(rescale=1./255)\n",
    "# Flow training images in batches of 128 using train_datagen generator\n",
    "train_generator = train_datagen.flow_from_directory(\n",
    "        r'C:\\Users\\User\\horsehuman',     \n",
    "        target_size=(160, 160),  # All images will be resized to 300x300\n",
    "        batch_size=64,\n",
    "        # Since we use binary_crossentropy loss, we need binary labels\n",
    "        class_mode='binary')\n",
    "\n",
    "validation_generator = test_datagen.flow_from_directory(\n",
    "        r'C:\\Users\\User\\Desktop\\test',\n",
    "        target_size=(160, 160),\n",
    "        batch_size=16,\n",
    "        class_mode='binary')\n",
    "\n",
    "new_model.fit_generator(\n",
    "        train_generator,\n",
    "        steps_per_epoch=8 ,\n",
    "        epochs=25,\n",
    "        validation_data=validation_generator,\n",
    "        validation_steps=74 // batch_size)"
   ]
  },
  {
   "cell_type": "code",
   "execution_count": 66,
   "metadata": {},
   "outputs": [
    {
     "name": "stdout",
     "output_type": "stream",
     "text": [
      "Found 32 images belonging to 2 classes.\n",
      "32/32 [==============================] - 2s 51ms/step\n"
     ]
    }
   ],
   "source": [
    "predict_datagen = ImageDataGenerator(rescale=1./255)\n",
    "prediction_generator = predict_datagen.flow_from_directory(\n",
    "        r'C:\\Users\\User\\Desktop\\new_images',\n",
    "        target_size=(160, 160),\n",
    "        batch_size=1,\n",
    "        class_mode='binary',\n",
    "        shuffle=False)\n",
    "\n",
    "pred=new_model.predict_generator(\n",
    "        prediction_generator, \n",
    "        steps=len(prediction_generator),\n",
    "        verbose=1\n",
    "        )    # gives a 1d array of class probabilities. in this case, a single probability\n",
    "pred=pred.flatten()"
   ]
  },
  {
   "cell_type": "code",
   "execution_count": 67,
   "metadata": {},
   "outputs": [],
   "source": [
    "# for converting probailites into the corresponding predicted classes\n",
    "predicted_class_indices=[] \n",
    "for i in pred:\n",
    "    if i<0.5:\n",
    "        predicted_class_indices.append(0)\n",
    "    else:\n",
    "        predicted_class_indices.append(1)        \n",
    "# predicted_class_indices=np.argmax(pred,axis=1)   <- use this instead of above code if a multi class classification is used\n",
    "\n",
    "\n",
    "# for getting the actual class labels\n",
    "true_labels= [] \n",
    "classlabel=0\n",
    "for i in os.listdir(r'C:\\Users\\User\\Desktop\\new_images'):\n",
    "    j=os.path.join(r'C:\\Users\\User\\Desktop\\new_images',i)\n",
    "    l=len(os.listdir(j))\n",
    "    for k in range(l):\n",
    "        true_labels.append(classlabel)\n",
    "    classlabel+=1"
   ]
  },
  {
   "cell_type": "code",
   "execution_count": 68,
   "metadata": {},
   "outputs": [
    {
     "data": {
      "text/plain": [
       "Text(69.0, 0.5, 'actual')"
      ]
     },
     "execution_count": 68,
     "metadata": {},
     "output_type": "execute_result"
    },
    {
     "data": {
      "image/png": "[encoded data removed]",
      "text/plain": [
       "<Figure size 720x360 with 2 Axes>"
      ]
     },
     "metadata": {
      "needs_background": "light"
     },
     "output_type": "display_data"
    }
   ],
   "source": [
    "cm=tf.math.confusion_matrix(labels=true_labels,predictions=predicted_class_indices)\n",
    "\n",
    "plt.figure(figsize=(10,5))\n",
    "sn.heatmap(cm,annot=True, linewidth=0.5)\n",
    "plt.xlabel('predicted')\n",
    "plt.ylabel('actual')"
   ]
  },
  {
   "cell_type": "code",
   "execution_count": 69,
   "metadata": {},
   "outputs": [
    {
     "data": {
      "text/html": [
       "<div>\n",
       "<style scoped>\n",
       "    .dataframe tbody tr th:only-of-type {\n",
       "        vertical-align: middle;\n",
       "    }\n",
       "\n",
       "    .dataframe tbody tr th {\n",
       "        vertical-align: top;\n",
       "    }\n",
       "\n",
       "    .dataframe thead th {\n",
       "        text-align: right;\n",
       "    }\n",
       "</style>\n",
       "<table border=\"1\" class=\"dataframe\">\n",
       "  <thead>\n",
       "    <tr style=\"text-align: right;\">\n",
       "      <th></th>\n",
       "      <th>Filename</th>\n",
       "      <th>Predictions</th>\n",
       "    </tr>\n",
       "  </thead>\n",
       "  <tbody>\n",
       "    <tr>\n",
       "      <th>0</th>\n",
       "      <td>horse\\download (1).jpg</td>\n",
       "      <td>horse</td>\n",
       "    </tr>\n",
       "    <tr>\n",
       "      <th>1</th>\n",
       "      <td>horse\\download.jpg</td>\n",
       "      <td>horse</td>\n",
       "    </tr>\n",
       "    <tr>\n",
       "      <th>2</th>\n",
       "      <td>horse\\photo-1485201567137-7771be2f710c.jpg</td>\n",
       "      <td>horse</td>\n",
       "    </tr>\n",
       "    <tr>\n",
       "      <th>3</th>\n",
       "      <td>horse\\photo-1497781495506-ce58b286d8f5.jpg</td>\n",
       "      <td>horse</td>\n",
       "    </tr>\n",
       "    <tr>\n",
       "      <th>4</th>\n",
       "      <td>horse\\photo-1504291310234-fdc312c67b04.jpg</td>\n",
       "      <td>horse</td>\n",
       "    </tr>\n",
       "    <tr>\n",
       "      <th>5</th>\n",
       "      <td>horse\\photo-1504310977373-186d29f99322.jpg</td>\n",
       "      <td>human</td>\n",
       "    </tr>\n",
       "    <tr>\n",
       "      <th>6</th>\n",
       "      <td>horse\\photo-1511825869128-e85768033761.jpg</td>\n",
       "      <td>horse</td>\n",
       "    </tr>\n",
       "    <tr>\n",
       "      <th>7</th>\n",
       "      <td>horse\\photo-1512397476661-a9ec6ffd4a93.jpg</td>\n",
       "      <td>horse</td>\n",
       "    </tr>\n",
       "    <tr>\n",
       "      <th>8</th>\n",
       "      <td>horse\\photo-1513223848047-2456e15b4f7d.jpg</td>\n",
       "      <td>horse</td>\n",
       "    </tr>\n",
       "    <tr>\n",
       "      <th>9</th>\n",
       "      <td>horse\\photo-1522564943606-a719b0859d58.jpg</td>\n",
       "      <td>horse</td>\n",
       "    </tr>\n",
       "    <tr>\n",
       "      <th>10</th>\n",
       "      <td>horse\\photo-1545780699-605328d5e41b.jpg</td>\n",
       "      <td>horse</td>\n",
       "    </tr>\n",
       "    <tr>\n",
       "      <th>11</th>\n",
       "      <td>horse\\photo-1548670385-de3e9a053ad2.jpg</td>\n",
       "      <td>horse</td>\n",
       "    </tr>\n",
       "    <tr>\n",
       "      <th>12</th>\n",
       "      <td>horse\\photo-1563251981-25f42ed4b60b.jpg</td>\n",
       "      <td>horse</td>\n",
       "    </tr>\n",
       "    <tr>\n",
       "      <th>13</th>\n",
       "      <td>horse\\photo-1590688304507-c7617bb49159.jpg</td>\n",
       "      <td>horse</td>\n",
       "    </tr>\n",
       "    <tr>\n",
       "      <th>14</th>\n",
       "      <td>human\\IMG_20200708_153823.jpg</td>\n",
       "      <td>human</td>\n",
       "    </tr>\n",
       "    <tr>\n",
       "      <th>15</th>\n",
       "      <td>human\\images.jpg</td>\n",
       "      <td>human</td>\n",
       "    </tr>\n",
       "    <tr>\n",
       "      <th>16</th>\n",
       "      <td>human\\photo-1541647376583-8934aaf3448a.jpg</td>\n",
       "      <td>human</td>\n",
       "    </tr>\n",
       "    <tr>\n",
       "      <th>17</th>\n",
       "      <td>human\\photo-1542534759-05f6c34a9e63.jpg</td>\n",
       "      <td>human</td>\n",
       "    </tr>\n",
       "    <tr>\n",
       "      <th>18</th>\n",
       "      <td>human\\photo-1543080853-556086153871.jpg</td>\n",
       "      <td>human</td>\n",
       "    </tr>\n",
       "    <tr>\n",
       "      <th>19</th>\n",
       "      <td>human\\photo-1544005313-94ddf0286df2.jpg</td>\n",
       "      <td>human</td>\n",
       "    </tr>\n",
       "    <tr>\n",
       "      <th>20</th>\n",
       "      <td>human\\photo-1545167622-3a6ac756afa4.jpg</td>\n",
       "      <td>human</td>\n",
       "    </tr>\n",
       "    <tr>\n",
       "      <th>21</th>\n",
       "      <td>human\\photo-1545912453-db258ca9b7b7.jpg</td>\n",
       "      <td>horse</td>\n",
       "    </tr>\n",
       "    <tr>\n",
       "      <th>22</th>\n",
       "      <td>human\\photo-1546820389-44d77e1f3b31.jpg</td>\n",
       "      <td>human</td>\n",
       "    </tr>\n",
       "    <tr>\n",
       "      <th>23</th>\n",
       "      <td>human\\photo-1547624643-3bf761b09502.jpg</td>\n",
       "      <td>human</td>\n",
       "    </tr>\n",
       "    <tr>\n",
       "      <th>24</th>\n",
       "      <td>human\\photo-1548543604-a87c9909abec.jpg</td>\n",
       "      <td>horse</td>\n",
       "    </tr>\n",
       "    <tr>\n",
       "      <th>25</th>\n",
       "      <td>human\\photo-1549068106-b024baf5062d.jpg</td>\n",
       "      <td>human</td>\n",
       "    </tr>\n",
       "    <tr>\n",
       "      <th>26</th>\n",
       "      <td>human\\photo-1552058544-f2b08422138a.jpg</td>\n",
       "      <td>human</td>\n",
       "    </tr>\n",
       "    <tr>\n",
       "      <th>27</th>\n",
       "      <td>human\\photo-1554151228-14d9def656e4.jpg</td>\n",
       "      <td>horse</td>\n",
       "    </tr>\n",
       "    <tr>\n",
       "      <th>28</th>\n",
       "      <td>human\\photo-1575632312417-71da8ed4992d.jpg</td>\n",
       "      <td>human</td>\n",
       "    </tr>\n",
       "    <tr>\n",
       "      <th>29</th>\n",
       "      <td>human\\photo-1578489758854-f134a358f08b.jpg</td>\n",
       "      <td>horse</td>\n",
       "    </tr>\n",
       "    <tr>\n",
       "      <th>30</th>\n",
       "      <td>human\\photo-1594270410221-e6a33cbc6fb9.jpg</td>\n",
       "      <td>human</td>\n",
       "    </tr>\n",
       "    <tr>\n",
       "      <th>31</th>\n",
       "      <td>human\\photo-1595412212084-cc97030c594d.jpg</td>\n",
       "      <td>human</td>\n",
       "    </tr>\n",
       "  </tbody>\n",
       "</table>\n",
       "</div>"
      ],
      "text/plain": [
       "                                      Filename Predictions\n",
       "0                       horse\\download (1).jpg       horse\n",
       "1                           horse\\download.jpg       horse\n",
       "2   horse\\photo-1485201567137-7771be2f710c.jpg       horse\n",
       "3   horse\\photo-1497781495506-ce58b286d8f5.jpg       horse\n",
       "4   horse\\photo-1504291310234-fdc312c67b04.jpg       horse\n",
       "5   horse\\photo-1504310977373-186d29f99322.jpg       human\n",
       "6   horse\\photo-1511825869128-e85768033761.jpg       horse\n",
       "7   horse\\photo-1512397476661-a9ec6ffd4a93.jpg       horse\n",
       "8   horse\\photo-1513223848047-2456e15b4f7d.jpg       horse\n",
       "9   horse\\photo-1522564943606-a719b0859d58.jpg       horse\n",
       "10     horse\\photo-1545780699-605328d5e41b.jpg       horse\n",
       "11     horse\\photo-1548670385-de3e9a053ad2.jpg       horse\n",
       "12     horse\\photo-1563251981-25f42ed4b60b.jpg       horse\n",
       "13  horse\\photo-1590688304507-c7617bb49159.jpg       horse\n",
       "14               human\\IMG_20200708_153823.jpg       human\n",
       "15                            human\\images.jpg       human\n",
       "16  human\\photo-1541647376583-8934aaf3448a.jpg       human\n",
       "17     human\\photo-1542534759-05f6c34a9e63.jpg       human\n",
       "18     human\\photo-1543080853-556086153871.jpg       human\n",
       "19     human\\photo-1544005313-94ddf0286df2.jpg       human\n",
       "20     human\\photo-1545167622-3a6ac756afa4.jpg       human\n",
       "21     human\\photo-1545912453-db258ca9b7b7.jpg       horse\n",
       "22     human\\photo-1546820389-44d77e1f3b31.jpg       human\n",
       "23     human\\photo-1547624643-3bf761b09502.jpg       human\n",
       "24     human\\photo-1548543604-a87c9909abec.jpg       horse\n",
       "25     human\\photo-1549068106-b024baf5062d.jpg       human\n",
       "26     human\\photo-1552058544-f2b08422138a.jpg       human\n",
       "27     human\\photo-1554151228-14d9def656e4.jpg       horse\n",
       "28  human\\photo-1575632312417-71da8ed4992d.jpg       human\n",
       "29  human\\photo-1578489758854-f134a358f08b.jpg       horse\n",
       "30  human\\photo-1594270410221-e6a33cbc6fb9.jpg       human\n",
       "31  human\\photo-1595412212084-cc97030c594d.jpg       human"
      ]
     },
     "execution_count": 69,
     "metadata": {},
     "output_type": "execute_result"
    }
   ],
   "source": [
    "labels = (train_generator.class_indices)\n",
    "labels = dict((v,k) for k,v in labels.items())\n",
    "predictions = [labels[k] for k in predicted_class_indices]\n",
    "\n",
    "filenames=prediction_generator.filenames\n",
    "results=pd.DataFrame({\"Filename\":filenames,\n",
    "                      \"Predictions\":predictions})\n",
    "results"
   ]
  },
  {
   "cell_type": "code",
   "execution_count": null,
   "metadata": {},
   "outputs": [],
   "source": []
  }
 ],
 "metadata": {
  "kernelspec": {
   "display_name": "Python 3.7 (tensorflow)",
   "language": "python",
   "name": "tensorflow"
  },
  "language_info": {
   "codemirror_mode": {
    "name": "ipython",
    "version": 3
   },
   "file_extension": ".py",
   "mimetype": "text/x-python",
   "name": "python",
   "nbconvert_exporter": "python",
   "pygments_lexer": "ipython3",
   "version": "3.7.7"
  }
 },
 "nbformat": 4,
 "nbformat_minor": 4
}
